{
 "cells": [
  {
   "cell_type": "code",
   "execution_count": 2,
   "metadata": {},
   "outputs": [
    {
     "name": "stdout",
     "output_type": "stream",
     "text": [
      "env: CUDA_VISIBLE_DEVICES=2\n"
     ]
    },
    {
     "name": "stderr",
     "output_type": "stream",
     "text": [
      "Using TensorFlow backend.\n"
     ]
    }
   ],
   "source": [
    "%env CUDA_VISIBLE_DEVICES=2\n",
    "import sys\n",
    "sys.path.append(\"/home/isprovilkov/rupo\")\n",
    "import rupo.api\n",
    "import tensorflow as tf\n",
    "from nltk.translate.bleu_score import corpus_bleu\n",
    "\n",
    "sess = tf.InteractiveSession()"
   ]
  },
  {
   "cell_type": "code",
   "execution_count": 2,
   "metadata": {},
   "outputs": [],
   "source": [
    "MODEL_ROOT = '' # If your data is placed near repository folder.\n",
    "MODEL_PATH = MODEL_ROOT + 'translation-model.pkl' # Your model path here\n",
    "MODEL_PATH = \n",
    "\n",
    "\n",
    "RUPO_DATA_ROOT = '../../data/rupo/' # '/srv/hd6/data/Poem2Poem/data/rupo/'\n",
    "RUPO_STRESS_MODEL_PATH   = RUPO_DATA_ROOT + \\\n",
    "                           'stress_models/stress_ru_LSTM64_dropout0.2_acc99_wer8.h5'\n",
    "RUPO_ZALYZNIAK_DICT_PATH = RUPO_DATA_ROOT + 'dict/zaliznyak.txt'\n",
    "del RUPO_DATA_ROOT\n",
    "\n",
    "MODEL_BPE_PATH = MODEL_ROOT + 'translation-model-bpe-rules.txt'"
   ]
  },
  {
   "cell_type": "code",
   "execution_count": 3,
   "metadata": {},
   "outputs": [],
   "source": [
    "from subword_nmt.apply_bpe import BPE\n",
    "\n",
    "bpe_en = BPE(open(MODEL_BPE_PATH, mode = 'r'))\n",
    "\n",
    "ENGLISH_CHARS = set([chr(n) for n in range(ord('A'), ord('Z') + 1)] + \\\n",
    "                    [chr(n) for n in range(ord('a'), ord('z') + 1)] + [' ', '@', '-', \"'\"])\n",
    "\n",
    "def get_reversed(line):\n",
    "    return ''.join(reversed(line))\n",
    "\n",
    "def filter_out_chars(line, possible_chars):\n",
    "    return u''.join([c for c in line if c in possible_chars])\n",
    "\n",
    "def process_en_poem(poem):\n",
    "    lines = poem.strip().lower().split('\\n')\n",
    "    lines = [filter_out_chars(l, ENGLISH_CHARS) for l in lines]\n",
    "    lines = [get_reversed(l) for l in lines]\n",
    "    lines = [bpe_en.process_line(line.strip()) for line in lines]\n",
    "    return [get_reversed(l) for l in lines]"
   ]
  },
  {
   "cell_type": "code",
   "execution_count": 4,
   "metadata": {},
   "outputs": [],
   "source": [
    "import os\n",
    "import sys\n",
    "sys.path.append(os.path.abspath('../models'))\n",
    "\n",
    "from rhyme_translator import RhymeType, RhymeTranslator\n",
    "from translation_model import AttentiveModel"
   ]
  },
  {
   "cell_type": "code",
   "execution_count": 5,
   "metadata": {},
   "outputs": [
    {
     "name": "stdout",
     "output_type": "stream",
     "text": [
      "WARNING:tensorflow:From /Users/anya/anaconda3/lib/python3.6/site-packages/keras/backend/tensorflow_backend.py:1190: calling reduce_sum (from tensorflow.python.ops.math_ops) with keep_dims is deprecated and will be removed in a future version.\n",
      "Instructions for updating:\n",
      "keep_dims is deprecated, use keepdims instead\n",
      "WARNING:tensorflow:From /Users/anya/anaconda3/lib/python3.6/site-packages/keras/backend/tensorflow_backend.py:1297: calling reduce_mean (from tensorflow.python.ops.math_ops) with keep_dims is deprecated and will be removed in a future version.\n",
      "Instructions for updating:\n",
      "keep_dims is deprecated, use keepdims instead\n",
      "WARNING:tensorflow:From /Users/anya/anaconda3/lib/python3.6/site-packages/keras/backend/tensorflow_backend.py:1154: calling reduce_max (from tensorflow.python.ops.math_ops) with keep_dims is deprecated and will be removed in a future version.\n",
      "Instructions for updating:\n",
      "keep_dims is deprecated, use keepdims instead\n"
     ]
    }
   ],
   "source": [
    "def make_rupo_engine():\n",
    "    rupo_engine = rupo.api.Engine(language = 'ru')\n",
    "    rupo_engine.load(stress_model_path = RUPO_STRESS_MODEL_PATH,\n",
    "                     zalyzniak_dict = RUPO_ZALYZNIAK_DICT_PATH)\n",
    "    return rupo_engine\n",
    "\n",
    "global_rupo_engine = make_rupo_engine()"
   ]
  },
  {
   "cell_type": "code",
   "execution_count": 6,
   "metadata": {
    "scrolled": true
   },
   "outputs": [
    {
     "name": "stdout",
     "output_type": "stream",
     "text": [
      "WARNING:tensorflow:<tensorflow.python.ops.rnn_cell_impl.BasicLSTMCell object at 0x1c519a42e8>: Using a concatenated state is slower and will soon be deprecated.  Use state_is_tuple=True.\n",
      "WARNING:tensorflow:<tensorflow.python.ops.rnn_cell_impl.BasicLSTMCell object at 0x1c519a4240>: Using a concatenated state is slower and will soon be deprecated.  Use state_is_tuple=True.\n",
      "WARNING:tensorflow:From /Users/anya/anaconda3/lib/python3.6/site-packages/tensorflow/python/ops/rnn.py:430: calling reverse_sequence (from tensorflow.python.ops.array_ops) with seq_dim is deprecated and will be removed in a future version.\n",
      "Instructions for updating:\n",
      "seq_dim is deprecated, use seq_axis instead\n",
      "WARNING:tensorflow:From /Users/anya/anaconda3/lib/python3.6/site-packages/tensorflow/python/util/deprecation.py:454: calling reverse_sequence (from tensorflow.python.ops.array_ops) with batch_dim is deprecated and will be removed in a future version.\n",
      "Instructions for updating:\n",
      "batch_dim is deprecated, use batch_axis instead\n"
     ]
    }
   ],
   "source": [
    "if 'model_loaded' in globals():\n",
    "    sess.close()\n",
    "    tf.reset_default_graph()\n",
    "    sess = tf.InteractiveSession()\n",
    "    # Need to also recreate Rupo as it uses TensorFlow:\n",
    "    global_rupo_engine = make_rupo_engine()\n",
    "\n",
    "model_loaded = AttentiveModel(sess, MODEL_PATH)"
   ]
  },
  {
   "cell_type": "code",
   "execution_count": 11,
   "metadata": {},
   "outputs": [],
   "source": [
    "translator = RhymeTranslator(model_loaded, global_rupo_engine)"
   ]
  },
  {
   "cell_type": "code",
   "execution_count": 12,
   "metadata": {},
   "outputs": [
    {
     "name": "stdout",
     "output_type": "stream",
     "text": [
      "Английский голос.\n",
      "прямо у меня за окном.\n",
      "Несмотря на то лето, как засчитывает все вещи,\n",
      "Горячий воздух.\n",
      "\n",
      "Английский голос.\n",
      "прямо у меня за окном.\n",
      "Несмотря на то лето, как засчитывает все вещи,\n",
      "ветер.\n"
     ]
    }
   ],
   "source": [
    "assert global_rupo_engine.is_rhyme('вещи', 'ветер') # This is how Rupo thinks\n",
    "\n",
    "lines = process_en_poem('''Your voice\n",
    "Called me outside the window\n",
    "Of uncontested summer all things raise\n",
    "seamless air''')\n",
    "print('\\n'.join(translator.translate_lines(lines)))\n",
    "print()\n",
    "print('\\n'.join(translator.translate_lines_with_rhyme(lines,\n",
    "                                                      rhyme_type = RhymeType.WORD,\n",
    "                                                      rhyme_test_counts=(5, 5, 2),\n",
    "                                                      max_total_rhyme_tests = 1000)))"
   ]
  },
  {
   "cell_type": "code",
   "execution_count": 13,
   "metadata": {},
   "outputs": [
    {
     "name": "stdout",
     "output_type": "stream",
     "text": [
      "Мы должны сделать свои драгоценные драгоценности в \"Прости\".\n",
      "- для свежей красоты для \"Пустяки\",\n",
      "Несмотря на их, и для птиц. Девочки из \"я\".\n",
      "Несмотря на себя, пожирающий для себя для себя - \"я\".\n",
      "Весна из Герцогина и королевская пехота: \"Ну-ка\".\n",
      "Ты, бл*, для меня, - это твоя \"волна!\".\n",
      "\n",
      "Мы должны сделать свои драгоценные драгоценности в \"Прости\".\n",
      "Чтобы раствориться об простыней для красоты для непристойности,\n",
      "Несмотря на их, и для птиц. Девочки из \"я\".\n",
      "Несмотря на себя, пожирающий для себя для себя - \"я\".\n",
      "Железные поляны из ресницы и красоты, урана.\n",
      "Ты, бл*, для меня, - это твоя \"волна!\".\n",
      "\n",
      "Я создана для того, чтобы попасть в райские драгоценности, чтобы разобраться с евреями.\n",
      "- для свежей красоты для известности...\n",
      "Они за их восхищённые и Милые цветы из плотины.\n",
      "- очередные плотины...\n",
      "Весна из Герцогина и королевская пехота: \"Ну-ка\".\n",
      "Ты, бл*, для меня, - это твоя \"волна!\".\n"
     ]
    }
   ],
   "source": [
    "lines = process_en_poem('''Torches are made to light, jewels to wear,\n",
    "Dainties to taste, fresh beauty for the use,\n",
    "Herbs for their smell, and sappy plants to bear;\n",
    "Things growing to themselves are growth’s abuse,\n",
    "Seeds spring from seeds, and beauty breedeth beauty;\n",
    "Thou wast begot; to get it is thy duty.''')\n",
    "print('\\n'.join(translator.translate_lines(lines)))\n",
    "print()\n",
    "print('\\n'.join(translator.translate_lines_with_rhyme(lines,\n",
    "                                                      rhyme_type = RhymeType.SUFFIX,\n",
    "                                                      rhyme_test_counts=(5, 5, 2),\n",
    "                                                      max_total_rhyme_tests = 1000)))\n",
    "print()\n",
    "print('\\n'.join(translator.translate_lines_with_rhyme(lines,\n",
    "                                                      rhyme_type = RhymeType.WORD,\n",
    "                                                      rhyme_test_counts=(5, 5, 2),\n",
    "                                                      max_total_rhyme_tests = 1000)))"
   ]
  },
  {
   "cell_type": "code",
   "execution_count": 14,
   "metadata": {},
   "outputs": [
    {
     "name": "stdout",
     "output_type": "stream",
     "text": [
      "Он говорит о том, что этот ветер прорывается сквозь ночь,\n",
      "Ладно, мы уходим прочь.\n",
      "Крупное животное проходил через улицу,\n",
      "Нет, они так устали.\n"
     ]
    }
   ],
   "source": [
    "# Model internal translation function:\n",
    "lines = list(map(get_reversed, process_en_poem('''\n",
    "                  Let this wind blow through the night\n",
    "                  And we are going away\n",
    "                  The animal hasn't crossed the street\n",
    "                  Because it was too tired''')))\n",
    "translated = model_loaded.translate_lines(lines)[0]\n",
    "print('\\n'.join([get_reversed(line) for line in translated]).replace(' @@', ''))"
   ]
  },
  {
   "cell_type": "code",
   "execution_count": 15,
   "metadata": {},
   "outputs": [
    {
     "name": "stdout",
     "output_type": "stream",
     "text": [
      "----ARGMAX----\n",
      "Приведи своих друзей\n",
      "Это не так, весело, чтобы проиграть и притворяться.\n",
      "Мне стало скучно и быть уверенным в себе.\n",
      "\"Ну-ка\", я знаю непристойное слово,\n",
      "\n",
      "----RHYME_WORD/ARGMAX----\n",
      "Приведи своих друзей\n",
      "Это не так, весело, чтобы проиграть и притворяться.\n",
      "Мне стало скучно и был уверен.\n",
      "\"Человек\", я знаю. Грязное словечко.\n",
      "\n",
      "----RHYME_SUFFIX/ARGMAX----\n",
      "Приведи своих друзей\n",
      "Это не так, весело, чтобы проиграть и притворяться.\n",
      "Мне стало скучно и быть уверенным в себе.\n",
      "\"Ну-ка\", я знаю непристойное слово,\n"
     ]
    }
   ],
   "source": [
    "lines = process_en_poem('''Load up on guns and bring your friends\n",
    "It's fun to lose and to pretend\n",
    "She's over bored and self assured\n",
    "Oh no, I know a dirty word''')\n",
    "print('----ARGMAX----')\n",
    "print('\\n'.join(translator.translate_lines(lines)))\n",
    "print()\n",
    "print('----RHYME_WORD/ARGMAX----')\n",
    "print('\\n'.join(translator.translate_lines_with_rhyme(lines,\n",
    "                                                      rhyme_type = RhymeType.WORD,\n",
    "                                                      rhyme_test_counts=(3, 10, 3),\n",
    "                                                      max_total_rhyme_tests = 0)))\n",
    "print()\n",
    "print('----RHYME_SUFFIX/ARGMAX----')\n",
    "print('\\n'.join(translator.translate_lines_with_rhyme(lines,\n",
    "                                                      rhyme_type = RhymeType.SUFFIX,\n",
    "                                                      rhyme_test_counts=(3, 10, 3),\n",
    "                                                      max_total_rhyme_tests = 0)))"
   ]
  },
  {
   "cell_type": "code",
   "execution_count": 16,
   "metadata": {},
   "outputs": [
    {
     "name": "stdout",
     "output_type": "stream",
     "text": [
      "----ARGMAX----\n",
      "Ваш сын вернулся к отцу.\n",
      "Не спрашивай меня, и все крошки.\n",
      "- это хорошо.\n",
      "Это неправильно.\n",
      "\n",
      "----RHYME_WORD/ARGMAX----\n",
      "Он в том, что с сыном пришёл его отец.\n",
      "и спросила у детей.\n",
      "- это плохо.\n",
      "Это не плохо.\n",
      "\n",
      "----RHYME_SUFFIX/ARGMAX----\n",
      "Он вернулся с сыном с отцом.\n",
      "Попросила меня с ребёнком.\n",
      "- прекрасно.\n",
      "Это неправильно.\n"
     ]
    }
   ],
   "source": [
    "lines_ru = '''Крошка сын к отцу пришел,\n",
    "и спросила кроха:\n",
    "— Что такое хорошо\n",
    "и что такое плохо?'''\n",
    "\n",
    "# Translated to English with YandexTranslate\n",
    "# And punctuation manually removed\n",
    "\n",
    "lines = process_en_poem('''Baby son to his father came\n",
    "and asked crumbs\n",
    "What is good\n",
    "what's wrong''')\n",
    "print('----ARGMAX----')\n",
    "print('\\n'.join(translator.translate_lines(lines)))\n",
    "print()\n",
    "print('----RHYME_WORD/ARGMAX----')\n",
    "print('\\n'.join(translator.translate_lines_with_rhyme(lines,\n",
    "                                                      rhyme_type = RhymeType.WORD,\n",
    "                                                      # 1 variants of token at last position\n",
    "                                                      # 20 variants at 'last minus 1' position\n",
    "                                                      # 2 variants at 'last minus 2' position\n",
    "                                                      rhyme_test_counts=(1, 20, 2),\n",
    "                                                      max_total_rhyme_tests = 2500)))\n",
    "print()\n",
    "print('----RHYME_SUFFIX/ARGMAX----')\n",
    "print('\\n'.join(translator.translate_lines_with_rhyme(lines,\n",
    "                                                      rhyme_type = RhymeType.SUFFIX,\n",
    "                                                      # 1 variants of token at last position\n",
    "                                                      # 20 variants at 'last minus 1' position\n",
    "                                                      # 2 variants at 'last minus 2' position\n",
    "                                                      rhyme_test_counts=(1, 20, 2),\n",
    "                                                      max_total_rhyme_tests = 2500)))"
   ]
  },
  {
   "cell_type": "code",
   "execution_count": 17,
   "metadata": {},
   "outputs": [
    {
     "name": "stdout",
     "output_type": "stream",
     "text": [
      "----ARGMAX----\n",
      "У меня нет секретов,\n",
      "Ох, слушать, детей,\n",
      "Приказ от отцов на этот ответ.\n",
      "Положила её в книге,\n",
      "\n",
      "----RHYME_WORD/ARGMAX----\n",
      "У меня нет секретов,\n",
      "Ох, слушать, детей,\n",
      "Ответ от этих отцов, вот это.\n",
      "Я внесла всю книгу в этом,\n",
      "\n",
      "----RHYME_SUFFIX/ARGMAX----\n",
      "У меня нет секретов,\n",
      "Ох, слушать, детей,\n",
      "Редента с этим ответом.\n",
      "Я внесла всю книгу в этом,\n"
     ]
    }
   ],
   "source": [
    "lines_ru = '''У меня секретов нет,\n",
    "слушайте, детишки,\n",
    "папы этого ответ\n",
    "помещаю в книжке.'''\n",
    "\n",
    "# Translated to English with YandexTranslate\n",
    "# And punctuation manually removed\n",
    "\n",
    "lines = process_en_poem('''I have no secrets\n",
    "listen kids\n",
    "dads this answer\n",
    "I put it in the book''')\n",
    "\n",
    "print('----ARGMAX----')\n",
    "print('\\n'.join(translator.translate_lines(lines)))\n",
    "print()\n",
    "print('----RHYME_WORD/ARGMAX----')\n",
    "print('\\n'.join(translator.translate_lines_with_rhyme(lines,\n",
    "                                                      rhyme_type = RhymeType.WORD,\n",
    "                                                      # 5 variants of token at last position\n",
    "                                                      # 5 variants at 'last minus 1' position\n",
    "                                                      # 2 variants at 'last minus 2' position\n",
    "                                                      rhyme_test_counts=(1, 5, 3, 5),\n",
    "                                                      max_total_rhyme_tests = 0)))\n",
    "print()\n",
    "print('----RHYME_SUFFIX/ARGMAX----')\n",
    "print('\\n'.join(translator.translate_lines_with_rhyme(lines,\n",
    "                                                      rhyme_type = RhymeType.SUFFIX,\n",
    "                                                      # 5 variants of token at last position\n",
    "                                                      # 5 variants at 'last minus 1' position\n",
    "                                                      # 2 variants at 'last minus 2' position\n",
    "                                                      rhyme_test_counts=(1, 5, 3, 5),\n",
    "                                                      max_total_rhyme_tests = 0)))"
   ]
  },
  {
   "cell_type": "code",
   "execution_count": 18,
   "metadata": {},
   "outputs": [
    {
     "name": "stdout",
     "output_type": "stream",
     "text": [
      "----ARGMAX----\n",
      "У меня нет секретов,\n",
      "Ох, слушать, детей,\n",
      "Приказ от отцов на этот ответ.\n",
      "Положила её в книге,\n",
      "\n",
      "----RHYME_WORD/ARGMAX----\n",
      "У меня нет друзей,\n",
      "Ох, слушать, детей,\n",
      "Они смотрят на это.\n",
      "Я внесла всю книгу в этом,\n",
      "\n",
      "----RHYME_SUFFIX/ARGMAX----\n",
      "У меня нет секретов,\n",
      "Послушай, мальчиков,\n",
      "Редента с этим ответом.\n",
      "Я внесла всю книгу в этом,\n"
     ]
    }
   ],
   "source": [
    "lines_ru = '''У меня секретов нет,\n",
    "слушайте, детишки,\n",
    "папы этого ответ\n",
    "помещаю в книжке.'''\n",
    "\n",
    "# Translated to English with YandexTranslate\n",
    "# And punctuation manually removed\n",
    "\n",
    "lines = process_en_poem('''I have no secrets\n",
    "listen kids\n",
    "dads this answer\n",
    "I put it in the book''')\n",
    "\n",
    "print('----ARGMAX----')\n",
    "print('\\n'.join(translator.translate_lines(lines)))\n",
    "print()\n",
    "print('----RHYME_WORD/ARGMAX----')\n",
    "print('\\n'.join(translator.translate_lines_with_rhyme(lines,\n",
    "                                                      rhyme_type = RhymeType.WORD,\n",
    "                                                      # 1 variants of token at last position\n",
    "                                                      # 20 variants at 'last minus 1' position\n",
    "                                                      # 2 variants at 'last minus 2' position\n",
    "                                                      rhyme_test_counts=(1, 20, 2),\n",
    "                                                      max_total_rhyme_tests = 0)))\n",
    "print()\n",
    "print('----RHYME_SUFFIX/ARGMAX----')\n",
    "print('\\n'.join(translator.translate_lines_with_rhyme(lines,\n",
    "                                                      rhyme_type = RhymeType.SUFFIX,\n",
    "                                                      # 1 variants of token at last position\n",
    "                                                      # 20 variants at 'last minus 1' position\n",
    "                                                      # 2 variants at 'last minus 2' position\n",
    "                                                      rhyme_test_counts=(1, 20, 2),\n",
    "                                                      max_total_rhyme_tests = 0)))"
   ]
  },
  {
   "cell_type": "code",
   "execution_count": 19,
   "metadata": {},
   "outputs": [
    {
     "name": "stdout",
     "output_type": "stream",
     "text": [
      "----ARGMAX----\n",
      "Он врывается в грязь и взволнован.\n",
      "Это эта коварная рубашка,\n",
      "так говорят:\n",
      "Ладно, это плохо.\n",
      "\n",
      "----RHYME_WORD/ARGMAX----\n",
      "Он врывается в грязь и взволнован.\n",
      "Это такая грязная футболка,\n",
      "так говорят:\n",
      "Ладно, это плохо.\n",
      "\n",
      "----RHYME_SUFFIX/ARGMAX----\n",
      "Наверное, в грязи, и я была взволнована.\n",
      "Это кожаная рубашкана,\n",
      "Это то, что здесь сказано:\n",
      "Очевидно.\n"
     ]
    }
   ],
   "source": [
    "lines_ru = '''Этот в грязь полез и рад.\n",
    "что грязна рубаха.\n",
    "Про такого говорят:\n",
    "он плохой, неряха.'''\n",
    "\n",
    "# Translated to English with YandexTranslate\n",
    "# And punctuation manually removed\n",
    "\n",
    "lines = process_en_poem('''This in the dirt and got excited\n",
    "that dirty shirt\n",
    "About this say\n",
    "he's bad sloppy''')\n",
    "\n",
    "print('----ARGMAX----')\n",
    "print('\\n'.join(translator.translate_lines(lines)))\n",
    "print()\n",
    "print('----RHYME_WORD/ARGMAX----')\n",
    "print('\\n'.join(translator.translate_lines_with_rhyme(lines,\n",
    "                                                      rhyme_type = RhymeType.WORD,\n",
    "                                                      # 1 variants of token at last position\n",
    "                                                      # 20 variants at 'last minus 1' position\n",
    "                                                      # 2 variants at 'last minus 2' position\n",
    "                                                      rhyme_test_counts=(1, 20, 2),\n",
    "                                                      max_total_rhyme_tests = 0)))\n",
    "print()\n",
    "print('----RHYME_SUFFIX/ARGMAX----')\n",
    "print('\\n'.join(translator.translate_lines_with_rhyme(lines,\n",
    "                                                      rhyme_type = RhymeType.SUFFIX,\n",
    "                                                      # 1 variants of token at last position\n",
    "                                                      # 20 variants at 'last minus 1' position\n",
    "                                                      # 2 variants at 'last minus 2' position\n",
    "                                                      rhyme_test_counts=(1, 20, 2),\n",
    "                                                      max_total_rhyme_tests = 0)))"
   ]
  },
  {
   "cell_type": "code",
   "execution_count": null,
   "metadata": {},
   "outputs": [],
   "source": []
  }
 ],
 "metadata": {
  "kernelspec": {
   "display_name": "Python 3",
   "language": "python",
   "name": "python3"
  },
  "language_info": {
   "codemirror_mode": {
    "name": "ipython",
    "version": 3
   },
   "file_extension": ".py",
   "mimetype": "text/x-python",
   "name": "python",
   "nbconvert_exporter": "python",
   "pygments_lexer": "ipython3",
   "version": "3.6.8"
  }
 },
 "nbformat": 4,
 "nbformat_minor": 2
}
